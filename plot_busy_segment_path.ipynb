{
 "cells": [
  {
   "cell_type": "code",
   "execution_count": 1,
   "metadata": {},
   "outputs": [],
   "source": [
    "\n",
    "import numpy as np\n",
    "from util.plot import plot_cdf,color_list,plot_cdf_sub,plot_line\n",
    "from util.consts import QueueEvent\n",
    "import pandas as pd\n",
    "import re\n",
    "from collections import defaultdict\n",
    "import matplotlib.pyplot as plt"
   ]
  },
  {
   "cell_type": "code",
   "execution_count": 10,
   "metadata": {},
   "outputs": [
    {
     "name": "stdout",
     "output_type": "stream",
     "text": [
      "len(data_list): 3\n"
     ]
    }
   ],
   "source": [
    "dir_input=\"/data2/lichenni/path_perflow\"\n",
    "topo_type=\"_topo-pl-x_\"\n",
    "lr=10\n",
    "data_list=[]\n",
    "# for shard in np.arange(1000):\n",
    "for shard in np.random.choice(1000,100,replace=False):\n",
    "# for shard in [534]:\n",
    "    for n_flows in [2000]:\n",
    "        for n_hosts in [3,5,7]:\n",
    "            for shard_seed in [0]:\n",
    "                topo_type_cur=topo_type.replace(\"-x_\",f\"-{n_hosts}_\")+\"s%d_i0\"%(shard_seed)\n",
    "                spec=f\"shard{shard}_nflows{n_flows}_nhosts{n_hosts}_lr{lr}Gbps\"\n",
    "                dir_input_tmp = f\"{dir_input}/{spec}\"\n",
    "                \n",
    "                fid = np.load(f'{dir_input}/{spec}/fid{topo_type_cur}.npy')\n",
    "                if len(fid)==len(set(fid)) and np.all(fid[:-1] <= fid[1:]) and len(fid)%n_flows==0:\n",
    "                    data_list.append((spec,topo_type_cur,n_hosts))\n",
    "                else:\n",
    "                    print(f\"fid not valid: {spec}\")\n",
    "print(f\"len(data_list): {len(data_list)}\")"
   ]
  },
  {
   "cell_type": "code",
   "execution_count": 2,
   "metadata": {},
   "outputs": [
    {
     "ename": "NameError",
     "evalue": "name 'data_list' is not defined",
     "output_type": "error",
     "traceback": [
      "\u001b[0;31m---------------------------------------------------------------------------\u001b[0m",
      "\u001b[0;31mNameError\u001b[0m                                 Traceback (most recent call last)",
      "Cell \u001b[0;32mIn[2], line 4\u001b[0m\n\u001b[1;32m      2\u001b[0m len_per_period_all_mean\u001b[38;5;241m=\u001b[39mdefaultdict(\u001b[38;5;28mlist\u001b[39m)\n\u001b[1;32m      3\u001b[0m len_per_period_all_max\u001b[38;5;241m=\u001b[39mdefaultdict(\u001b[38;5;28mlist\u001b[39m)\n\u001b[0;32m----> 4\u001b[0m \u001b[38;5;28;01mfor\u001b[39;00m spec_idx,(spec,topo_type,n_hosts) \u001b[38;5;129;01min\u001b[39;00m \u001b[38;5;28menumerate\u001b[39m(\u001b[43mdata_list\u001b[49m):\n\u001b[1;32m      5\u001b[0m     input_tmp\u001b[38;5;241m=\u001b[39m\u001b[38;5;124mf\u001b[39m\u001b[38;5;124m\"\u001b[39m\u001b[38;5;132;01m{\u001b[39;00mdir_input\u001b[38;5;132;01m}\u001b[39;00m\u001b[38;5;124m/\u001b[39m\u001b[38;5;132;01m{\u001b[39;00mspec\u001b[38;5;132;01m}\u001b[39;00m\u001b[38;5;124m\"\u001b[39m\n\u001b[1;32m      6\u001b[0m     \u001b[38;5;66;03m# Read the log file\u001b[39;00m\n",
      "\u001b[0;31mNameError\u001b[0m: name 'data_list' is not defined"
     ]
    }
   ],
   "source": [
    "len_per_period_all=defaultdict(list)\n",
    "len_per_period_all_mean=defaultdict(list)\n",
    "len_per_period_all_max=defaultdict(list)\n",
    "for spec_idx,(spec,topo_type,n_hosts) in enumerate(data_list):\n",
    "    input_tmp=f\"{dir_input}/{spec}\"\n",
    "    # Read the log file\n",
    "    busy_periods=np.load(f'{input_tmp}/period{topo_type}.npy', allow_pickle=True)\n",
    "    len_per_period = np.array([len(period) for period in busy_periods])\n",
    "    # len_per_period = np.array([int(period[1])-int(period[0])+1 for period in busy_periods])\n",
    "    len_per_period_all[n_hosts].extend(len_per_period)\n",
    "    len_per_period_all_mean[n_hosts].append(len_per_period.mean())\n",
    "    len_per_period_all_max[n_hosts].append(len_per_period.max())\n",
    "\n",
    "legend_list=[f'Hops={n_hosts-1}' for n_hosts in len_per_period_all.keys()]\n",
    "plot_data=[np.array(len_per_period_all[n_hosts]) for n_hosts in len_per_period_all.keys()]\n",
    "fig_idx=0\n",
    "plot_cdf(plot_data,None,legend_list,f'# of flows per busy period',legend_font=15,group_size=len(legend_list),loc=4,rotate_xaxis=False,log_switch=False,fig_idx=fig_idx)\n",
    "fig_idx+=1\n",
    "\n",
    "plot_data=[np.array(len_per_period_all_mean[n_hosts]) for n_hosts in len_per_period_all.keys()]\n",
    "plot_cdf(plot_data,None,legend_list,f'Mean # of flows per scenario',legend_font=15,group_size=len(legend_list),loc=4,rotate_xaxis=False,log_switch=False,fig_idx=fig_idx)\n",
    "fig_idx+=1\n",
    "\n",
    "plot_data=[np.array(len_per_period_all_max[n_hosts]) for n_hosts in len_per_period_all.keys()]\n",
    "plot_cdf(plot_data,None,legend_list,f'Max # of flows per scenario',legend_font=15,group_size=len(legend_list),loc=4,rotate_xaxis=False,log_switch=False,fig_idx=fig_idx)\n",
    "fig_idx+=1\n",
    "\n",
    "        "
   ]
  }
 ],
 "metadata": {
  "kernelspec": {
   "display_name": "py39",
   "language": "python",
   "name": "python3"
  },
  "language_info": {
   "codemirror_mode": {
    "name": "ipython",
    "version": 3
   },
   "file_extension": ".py",
   "mimetype": "text/x-python",
   "name": "python",
   "nbconvert_exporter": "python",
   "pygments_lexer": "ipython3",
   "version": "3.9.16"
  }
 },
 "nbformat": 4,
 "nbformat_minor": 2
}
